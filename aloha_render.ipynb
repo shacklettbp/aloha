{
 "cells": [
  {
   "cell_type": "markdown",
   "metadata": {
    "colab_type": "text",
    "id": "view-in-github"
   },
   "source": [
    "<a href=\"https://colab.research.google.com/github/erikfrey/aloha/blob/main/aloha_render.ipynb\" target=\"_parent\"><img src=\"https://colab.research.google.com/assets/colab-badge.svg\" alt=\"Open In Colab\"/></a>"
   ]
  },
  {
   "cell_type": "markdown",
   "metadata": {
    "id": "a3NXzZCjTskz"
   },
   "source": [
    "# Aloha Bring To Target"
   ]
  },
  {
   "cell_type": "code",
   "execution_count": 1,
   "metadata": {
    "colab": {
     "base_uri": "https://localhost:8080/"
    },
    "id": "1peP73s5tjKX",
    "outputId": "a4ef8501-d41d-4c33-90fc-1a98e2d5e171"
   },
   "outputs": [
    {
     "name": "stdout",
     "output_type": "stream",
     "text": [
      "Requirement already satisfied: brax in /home/bps/.python/lib/python3.11/site-packages (0.10.4)\n",
      "Requirement already satisfied: absl-py in /home/bps/.python/lib/python3.11/site-packages (from brax) (2.1.0)\n",
      "Requirement already satisfied: dm-env in /home/bps/.python/lib/python3.11/site-packages (from brax) (1.6)\n",
      "Requirement already satisfied: etils in /home/bps/.python/lib/python3.11/site-packages (from brax) (1.8.0)\n",
      "Requirement already satisfied: flask in /home/bps/.python/lib/python3.11/site-packages (from brax) (3.0.3)\n",
      "Requirement already satisfied: flask-cors in /home/bps/.python/lib/python3.11/site-packages (from brax) (4.0.1)\n",
      "Requirement already satisfied: flax in /home/bps/.python/lib/python3.11/site-packages (from brax) (0.8.3)\n",
      "Requirement already satisfied: grpcio in /home/bps/.python/lib/python3.11/site-packages (from brax) (1.64.0)\n",
      "Requirement already satisfied: gym in /home/bps/.python/lib/python3.11/site-packages (from brax) (0.26.2)\n",
      "Requirement already satisfied: jax>=0.4.6 in /home/bps/.python/lib/python3.11/site-packages (from brax) (0.4.28)\n",
      "Requirement already satisfied: jaxlib>=0.4.6 in /home/bps/.python/lib/python3.11/site-packages (from brax) (0.4.28+cuda12.cudnn89)\n",
      "Requirement already satisfied: jaxopt in /home/bps/.python/lib/python3.11/site-packages (from brax) (0.8.3)\n",
      "Requirement already satisfied: jinja2 in /home/bps/.python/lib/python3.11/site-packages (from brax) (3.1.4)\n",
      "Requirement already satisfied: ml-collections in /home/bps/.python/lib/python3.11/site-packages (from brax) (0.1.1)\n",
      "Requirement already satisfied: mujoco in /home/bps/.python/lib/python3.11/site-packages (from brax) (3.1.5)\n",
      "Requirement already satisfied: mujoco-mjx in /home/bps/.python/lib/python3.11/site-packages (from brax) (3.1.5)\n",
      "Requirement already satisfied: numpy in /home/bps/.python/lib/python3.11/site-packages (from brax) (1.26.4)\n",
      "Requirement already satisfied: optax in /home/bps/.python/lib/python3.11/site-packages (from brax) (0.1.9)\n",
      "Requirement already satisfied: Pillow in /home/bps/.python/lib/python3.11/site-packages (from brax) (10.3.0)\n",
      "Requirement already satisfied: pytinyrenderer in /home/bps/.python/lib/python3.11/site-packages (from brax) (0.0.14)\n",
      "Requirement already satisfied: scipy in /home/bps/.python/lib/python3.11/site-packages (from brax) (1.13.0)\n",
      "Requirement already satisfied: tensorboardX in /home/bps/.python/lib/python3.11/site-packages (from brax) (2.6.2.2)\n",
      "Requirement already satisfied: trimesh in /home/bps/.python/lib/python3.11/site-packages (from brax) (4.4.0)\n",
      "Requirement already satisfied: typing-extensions in /home/bps/.python/lib/python3.11/site-packages (from brax) (4.11.0)\n",
      "Requirement already satisfied: ml-dtypes>=0.2.0 in /home/bps/.python/lib/python3.11/site-packages (from jax>=0.4.6->brax) (0.4.0)\n",
      "Requirement already satisfied: opt-einsum in /home/bps/.python/lib/python3.11/site-packages (from jax>=0.4.6->brax) (3.3.0)\n",
      "Requirement already satisfied: dm-tree in /home/bps/.python/lib/python3.11/site-packages (from dm-env->brax) (0.1.8)\n",
      "Requirement already satisfied: Werkzeug>=3.0.0 in /home/bps/.python/lib/python3.11/site-packages (from flask->brax) (3.0.3)\n",
      "Requirement already satisfied: itsdangerous>=2.1.2 in /home/bps/.python/lib/python3.11/site-packages (from flask->brax) (2.2.0)\n",
      "Requirement already satisfied: click>=8.1.3 in /home/bps/.python/lib/python3.11/site-packages (from flask->brax) (8.1.7)\n",
      "Requirement already satisfied: blinker>=1.6.2 in /home/bps/.python/lib/python3.11/site-packages (from flask->brax) (1.8.2)\n",
      "Requirement already satisfied: MarkupSafe>=2.0 in /home/bps/.python/lib/python3.11/site-packages (from jinja2->brax) (2.1.5)\n",
      "Requirement already satisfied: msgpack in /home/bps/.python/lib/python3.11/site-packages (from flax->brax) (1.0.8)\n",
      "Requirement already satisfied: orbax-checkpoint in /home/bps/.python/lib/python3.11/site-packages (from flax->brax) (0.4.8)\n",
      "Requirement already satisfied: tensorstore in /home/bps/.python/lib/python3.11/site-packages (from flax->brax) (0.1.59)\n",
      "Requirement already satisfied: rich>=11.1 in /home/bps/.python/lib/python3.11/site-packages (from flax->brax) (13.7.1)\n",
      "Requirement already satisfied: PyYAML>=5.4.1 in /home/bps/.python/lib/python3.11/site-packages (from flax->brax) (6.0.1)\n",
      "Requirement already satisfied: cloudpickle>=1.2.0 in /home/bps/.python/lib/python3.11/site-packages (from gym->brax) (3.0.0)\n",
      "Requirement already satisfied: gym-notices>=0.0.4 in /home/bps/.python/lib/python3.11/site-packages (from gym->brax) (0.0.8)\n",
      "Requirement already satisfied: six in /home/bps/.python/lib/python3.11/site-packages (from ml-collections->brax) (1.16.0)\n",
      "Requirement already satisfied: contextlib2 in /home/bps/.python/lib/python3.11/site-packages (from ml-collections->brax) (21.6.0)\n",
      "Requirement already satisfied: glfw in /home/bps/.python/lib/python3.11/site-packages (from mujoco->brax) (2.7.0)\n",
      "Requirement already satisfied: pyopengl in /home/bps/.python/lib/python3.11/site-packages (from mujoco->brax) (3.1.7)\n",
      "Requirement already satisfied: chex>=0.1.7 in /home/bps/.python/lib/python3.11/site-packages (from optax->brax) (0.1.86)\n",
      "Requirement already satisfied: packaging in /home/bps/.python/lib/python3.11/site-packages (from tensorboardX->brax) (24.0)\n",
      "Requirement already satisfied: protobuf>=3.20 in /home/bps/.python/lib/python3.11/site-packages (from tensorboardX->brax) (4.23.4)\n",
      "Requirement already satisfied: toolz>=0.9.0 in /home/bps/.python/lib/python3.11/site-packages (from chex>=0.1.7->optax->brax) (0.12.1)\n",
      "Requirement already satisfied: markdown-it-py>=2.2.0 in /home/bps/.python/lib/python3.11/site-packages (from rich>=11.1->flax->brax) (3.0.0)\n",
      "Requirement already satisfied: pygments<3.0.0,>=2.13.0 in /home/bps/.python/lib/python3.11/site-packages (from rich>=11.1->flax->brax) (2.18.0)\n",
      "Requirement already satisfied: fsspec in /home/bps/.python/lib/python3.11/site-packages (from etils[epath]->mujoco->brax) (2024.5.0)\n",
      "Requirement already satisfied: importlib_resources in /home/bps/.python/lib/python3.11/site-packages (from etils[epath]->mujoco->brax) (6.4.0)\n",
      "Requirement already satisfied: zipp in /home/bps/.python/lib/python3.11/site-packages (from etils[epath]->mujoco->brax) (3.18.2)\n",
      "Requirement already satisfied: nest_asyncio in /home/bps/.python/lib/python3.11/site-packages (from orbax-checkpoint->flax->brax) (1.6.0)\n",
      "Requirement already satisfied: mdurl~=0.1 in /home/bps/.python/lib/python3.11/site-packages (from markdown-it-py>=2.2.0->rich>=11.1->flax->brax) (0.1.2)\n"
     ]
    },
    {
     "name": "stderr",
     "output_type": "stream",
     "text": [
      "Cloning into 'mujoco_menagerie'...\n",
      "Updating files: 100% (1047/1047), done.\n"
     ]
    },
    {
     "name": "stdout",
     "output_type": "stream",
     "text": [
      "patching file scene.xml\n",
      "Hunk #1 succeeded at 1 with fuzz 1.\n",
      "patching file aloha.xml\n",
      "patching file filtered_cartesian_actuators.xml\n"
     ]
    }
   ],
   "source": [
    "%%bash\n",
    "pip install brax\n",
    "rm -rf mujoco_menagerie\n",
    "git clone https://github.com/google-deepmind/mujoco_menagerie.git\n",
    "cd mujoco_menagerie/aloha/\n",
    "patch -p0 < mjx_scene.patch\n",
    "patch -p0 < mjx_aloha.patch\n",
    "patch -p0 < mjx_filtered_cartesian_actuators.patch\n",
    "mv scene.xml mjx_scene.xml\n",
    "mv aloha.xml mjx_aloha.xml\n",
    "mv filtered_cartesian_actuators.xml mjx_filtered_cartesian_actuators.xml\n",
    "cat >mjx_single_cube.xml <<EOF\n",
    "<mujoco model=\"aloha with a single cube\">\n",
    "  <size nuserdata=\"1\"/>\n",
    "  <include file=\"mjx_scene.xml\"/>\n",
    "  <worldbody>\n",
    "    <body name=\"box\" pos=\"0.35 0.2 0.025\">\n",
    "      <freejoint/>\n",
    "      <geom name=\"box\" type=\"box\" size=\"0.015 0.02 0.03\" condim=\"3\"\n",
    "        friction=\"2.5 .03 .003\" rgba=\"0 1 0 1\" contype=\"1\" conaffinity=\"1\"/>\n",
    "    </body>\n",
    "  </worldbody>\n",
    "  <keyframe>\n",
    "    <key name=\"home\" qpos=\"\n",
    "      0 -0.96 1.16 0 -0.3 0 0.0084 0.0084\n",
    "      0 -0.96 1.16 0 -0.3 0 0.0084 0.0084\n",
    "      0.35 0.2 0.025 1 0 0 0\"\n",
    "      act= \"-0.1 0 0 0 0 0 0.03 0.1 0 0 0 0 0 0.03\"\n",
    "      ctrl=\"-0.1 0 0 0 0 0 0.03 0.1 0 0 0 0 0 0.03\"\n",
    "    />\n",
    "  </keyframe>\n",
    "</mujoco>\n",
    "EOF"
   ]
  },
  {
   "cell_type": "code",
   "execution_count": 2,
   "metadata": {
    "id": "2csKCQP5TJhQ"
   },
   "outputs": [],
   "source": [
    "import functools\n",
    "import os\n",
    "\n",
    "# FIXME, hacky, but need to leave decent chunk of memory for Madrona /\n",
    "# the batch renderer\n",
    "def limit_jax_mem(limit):\n",
    "    os.environ[\"XLA_PYTHON_CLIENT_MEM_FRACTION\"] = f\"{limit:.2f}\"\n",
    "limit_jax_mem(0.5)\n",
    "\n",
    "from datetime import datetime\n",
    "from typing import Any\n",
    "\n",
    "from IPython.display import HTML, clear_output\n",
    "from etils import epath\n",
    "\n",
    "import jax\n",
    "import jax.numpy as jp\n",
    "import matplotlib.pyplot as plt\n",
    "import mujoco\n",
    "import flax\n",
    "\n",
    "from brax import base\n",
    "from brax.envs.base import PipelineEnv\n",
    "from brax.envs.base import State\n",
    "from brax.io import html\n",
    "from brax.io import mjcf\n",
    "from brax.training.agents.ppo import train as ppo\n",
    "\n",
    "from madrona_mjx import BatchRenderer\n",
    "\n",
    "# Tell XLA to use Triton GEMM, this improves steps/sec by ~30% on some GPUs\n",
    "xla_flags = os.environ.get('XLA_FLAGS', '')\n",
    "xla_flags += ' --xla_gpu_triton_gemm_any=True'\n",
    "os.environ['XLA_FLAGS'] = xla_flags"
   ]
  },
  {
   "cell_type": "code",
   "execution_count": 3,
   "metadata": {
    "colab": {
     "base_uri": "https://localhost:8080/"
    },
    "id": "Pl2frKayK-R0",
    "outputId": "c6c0f8f8-a0ce-493d-b8b5-05c66ee49899"
   },
   "outputs": [],
   "source": [
    "# @title Setup ALOHA env\n",
    "\n",
    "def _load_sys(path: str) -> base.System:\n",
    "  path = epath.Path(path)\n",
    "  xml = path.read_text()\n",
    "  assets = {}\n",
    "  for f in path.parent.glob('*.xml'):\n",
    "    assets[f.name] = f.read_bytes()\n",
    "    for f in (path.parent / 'assets').glob('*'):\n",
    "      assets[f.name] = f.read_bytes()\n",
    "  model = mujoco.MjModel.from_xml_string(xml, assets)\n",
    "\n",
    "  # current overrides to get this working:\n",
    "  # TODO(erikfrey): tune this.  big slowdown from iterations.\n",
    "  model.opt.timestep = 0.005\n",
    "  model.numeric_data[0] = 10            # raises max_contacts to 10\n",
    "  model.actuator_dynprm[0:6, 0] = 0.5   # allows actuators to move faster\n",
    "  model.actuator_dynprm[7:13, 0] = 0.5  # ... leave gripper dynprm as is\n",
    "  model.opt.iterations = 10             # improves solver stability\n",
    "  model.opt.ls_iterations = 10          # improves solver stability\n",
    "\n",
    "  return mjcf.load_model(model)\n",
    "\n",
    "class AlohaBringToTarget(PipelineEnv):\n",
    "  \"\"\"Environment for training aloha to bring an object to target.\"\"\"\n",
    "\n",
    "  def __init__(\n",
    "      self,\n",
    "      sim_batch_size: int,\n",
    "      batch_render_dims: int,\n",
    "      **kwargs\n",
    "  ):\n",
    "    sys = _load_sys('mujoco_menagerie/aloha/mjx_single_cube.xml')\n",
    "    kwargs['backend'] = 'mjx'\n",
    "    super().__init__(sys, **kwargs)\n",
    "\n",
    "    self.renderer = BatchRenderer(\n",
    "      mjx_sys=sys,\n",
    "      gpu_id=0, # FIXME: Hardcoded GPU ID\n",
    "      num_worlds=sim_batch_size,\n",
    "      batch_render_view_width=batch_render_dims[1],\n",
    "      batch_render_view_height=batch_render_dims[0],\n",
    "    )\n",
    "\n",
    "    # For rewards\n",
    "    self._left_gripper_site_index = 3\n",
    "    self._right_gripper_site_index = 6\n",
    "    self._box_body_index = sys.mj_model.nbody - 1\n",
    "    self._box_q_index = 16\n",
    "\n",
    "    # Init qpos\n",
    "    self._init_q = jp.array([0.0748744, -0.0298622, 0.869616, 0.0954888,\n",
    "                             -0.887428, -0.0637624, 0.002, 0.002, -0.0772142,\n",
    "                             -0.03, 0.869422, -0.100858, -0.887171, 0.0673553,\n",
    "                             0.002, 0.002, 0, 0, 0.0255684, 1, 0, 0, 0])\n",
    "\n",
    "    # Action limits and dimension\n",
    "    self.action_dim = sys.mj_model.actuator_ctrlrange.shape[0]\n",
    "    self.lowers = sys.mj_model.actuator_ctrlrange[:, 0]\n",
    "    self.uppers = sys.mj_model.actuator_ctrlrange[:, 1]\n",
    "\n",
    "  def reset(self, rng: jax.Array) -> State:\n",
    "    print(rng.shape)\n",
    "\n",
    "    rng, rng_target, rng_box = jax.random.split(rng, 3)\n",
    "\n",
    "    target_xy = jax.random.uniform(rng_target, (2,), minval=-0.15, maxval=0.15)\n",
    "    target_z = jax.random.uniform(rng_target, (1,), minval=0.1, maxval=0.4)\n",
    "    target_pos = jp.array([0, 0, 0.3])\n",
    "\n",
    "    box_xy = jax.random.uniform(rng_box, (2,), minval=-0.15, maxval=0.15)\n",
    "    box_pos = jp.append(box_xy, jp.array(0.02))\n",
    "\n",
    "    init_q = self._init_q.at[self._box_q_index:self._box_q_index + 3].set(box_pos)\n",
    "    pipeline_state = self.pipeline_init(init_q, jp.zeros(self.sys.nv))\n",
    "    render_token, rgb_ob, depth_ob = self.renderer.init(pipeline_state)\n",
    "\n",
    "    info = {'rng': rng, 'target_pos': target_pos}\n",
    "    #obs = self._get_obs(pipeline_state, info)\n",
    "    reward, done = jp.zeros(2)\n",
    "    metrics = {'gripper_reward': jp.array(0.0),\n",
    "               'box_reward': jp.array(0.0),\n",
    "               'out_of_bounds': jp.array(0.0)}\n",
    "\n",
    "    state = State((pipeline_state, render_token), depth_ob, reward, done, metrics, info)\n",
    "\n",
    "    return state\n",
    "\n",
    "  def step(self, state: State, action: jax.Array) -> State:\n",
    "    action = jp.clip(action, -1.0, 1.0)\n",
    "    action = (action + 1) * 0.5  # move from [-1, 1] => [0, 1]\n",
    "    ctrl = action * (self.uppers - self.lowers) + self.lowers\n",
    "\n",
    "    mjx_pipeline_state, render_pipeline_state = state.pipeline_state\n",
    "\n",
    "    data = self.pipeline_step(mjx_pipeline_state, ctrl)\n",
    "    render_token, rgb_ob, depth_ob = self.renderer.render(render_pipeline_state, data)\n",
    "\n",
    "    target_pos = state.info['target_pos']\n",
    "    box_pos = data.xpos[self._box_body_index]\n",
    "\n",
    "    box_reward = jp.exp(-10 * jp.linalg.norm(target_pos - box_pos))\n",
    "\n",
    "    left_gripper_pos = data.site_xpos[self._left_gripper_site_index]\n",
    "    right_gripper_pos = data.site_xpos[self._right_gripper_site_index]\n",
    "    left_reward = jp.exp(-10 * jp.linalg.norm(box_pos - left_gripper_pos))\n",
    "    right_reward = jp.exp(-10 * jp.linalg.norm(box_pos - right_gripper_pos))\n",
    "    gripper_reward = jp.maximum(left_reward, right_reward)\n",
    "\n",
    "    gripper_open = data.act[6] + data.act[13]\n",
    "\n",
    "    out_of_bounds = jp.any(jp.abs(box_pos) > 1.0)\n",
    "    reward = 20 * box_reward + gripper_reward + gripper_open\n",
    "    done = out_of_bounds.astype(float)\n",
    "    state.metrics.update(\n",
    "        gripper_reward=gripper_reward,\n",
    "        box_reward=box_reward,\n",
    "        out_of_bounds=out_of_bounds.astype(float))\n",
    "    #obs = self._get_obs(data, state.info)\n",
    "    state = State((data, render_token), depth_ob, reward, done, state.metrics, state.info,\n",
    "                  render_token=render_token)\n",
    "\n",
    "    return state\n",
    "\n",
    "  def _get_obs(self, data: base.State, info: dict[str, Any]) -> jax.Array:\n",
    "    # gripper and box positions\n",
    "    left_gripper_pos = data.site_xpos[self._left_gripper_site_index]\n",
    "    left_gripper_mat = data.site_xmat[self._left_gripper_site_index].ravel()\n",
    "    right_gripper_pos = data.site_xpos[self._right_gripper_site_index]\n",
    "    right_gripper_mat = data.site_xmat[self._right_gripper_site_index].ravel()\n",
    "    box_pos = data.xpos[self._box_body_index]\n",
    "    box_mat = data.xmat[self._box_body_index].ravel()\n",
    "    obs = jp.concatenate([\n",
    "        data.act,\n",
    "        left_gripper_pos,\n",
    "        right_gripper_pos,\n",
    "        left_gripper_mat,\n",
    "        right_gripper_mat,\n",
    "        box_pos,\n",
    "        box_mat,\n",
    "        info['target_pos'],\n",
    "    ])\n",
    "\n",
    "    return obs"
   ]
  },
  {
   "cell_type": "code",
   "execution_count": 5,
   "metadata": {
    "colab": {
     "base_uri": "https://localhost:8080/"
    },
    "id": "Pl2frKayK-R0",
    "outputId": "c6c0f8f8-a0ce-493d-b8b5-05c66ee49899"
   },
   "outputs": [
    {
     "name": "stdout",
     "output_type": "stream",
     "text": [
      "Compiling GPU engine code:\n",
      "/home/bps/mw/madrona/src/mw/device/memory.cpp\n",
      "/home/bps/mw/madrona/src/mw/device/state.cpp\n",
      "/home/bps/mw/madrona/src/mw/device/crash.cpp\n",
      "/home/bps/mw/madrona/src/mw/device/consts.cpp\n",
      "/home/bps/mw/madrona/src/mw/device/taskgraph.cpp\n",
      "/home/bps/mw/madrona/src/mw/device/taskgraph_utils.cpp\n",
      "/home/bps/mw/madrona/src/mw/device/sort_archetype.cpp\n",
      "/home/bps/mw/madrona/src/mw/device/host_print.cpp\n",
      "/home/bps/mw/madrona/src/mw/../common/hashmap.cpp\n",
      "/home/bps/mw/madrona/src/mw/../common/navmesh.cpp\n",
      "/home/bps/mw/madrona/src/mw/../core/base.cpp\n",
      "/home/bps/mw/madrona/src/mw/../physics/physics.cpp\n",
      "/home/bps/mw/madrona/src/mw/../physics/geo.cpp\n",
      "/home/bps/mw/madrona/src/mw/../physics/xpbd.cpp\n",
      "/home/bps/mw/madrona/src/mw/../physics/tgs.cpp\n",
      "/home/bps/mw/madrona/src/mw/../physics/narrowphase.cpp\n",
      "/home/bps/mw/madrona/src/mw/../physics/broadphase.cpp\n",
      "/home/bps/mw/madrona/src/mw/../render/ecs_system.cpp\n",
      "/home/bps/mw/madrona_mjx/src/sim.cpp\n",
      "Initialization finished\n"
     ]
    }
   ],
   "source": [
    "num_envs = 1024\n",
    "batch_render_dims = (64, 64)\n",
    "\n",
    "env = AlohaBringToTarget(num_envs, batch_render_dims)\n",
    "jit_env_reset = jax.jit(env.reset)\n",
    "jit_env_step = jax.jit(env.step)"
   ]
  },
  {
   "cell_type": "markdown",
   "metadata": {
    "id": "Y0tIQgi4xzFK"
   },
   "source": [
    "# Train Aloha Bring To Target\n"
   ]
  },
  {
   "cell_type": "code",
   "execution_count": 7,
   "metadata": {
    "colab": {
     "base_uri": "https://localhost:8080/",
     "height": 525
    },
    "id": "1e6k8-RF0GBK",
    "outputId": "2481e6db-ffb1-415d-c76b-3ce79614f451"
   },
   "outputs": [
    {
     "name": "stdout",
     "output_type": "stream",
     "text": [
      "(2,)\n"
     ]
    },
    {
     "ename": "ValueError",
     "evalue": "vmap was requested to map its argument along axis 0, which implies that its rank should be at least 1, but is only 0 (its shape is ())",
     "output_type": "error",
     "traceback": [
      "\u001b[0;31m---------------------------------------------------------------------------\u001b[0m",
      "\u001b[0;31mIndexError\u001b[0m                                Traceback (most recent call last)",
      "File \u001b[0;32m~/.python/lib/python3.11/site-packages/jax/_src/api.py:1234\u001b[0m, in \u001b[0;36m_mapped_axis_size.<locals>._get_axis_size\u001b[0;34m(name, shape, axis)\u001b[0m\n\u001b[1;32m   1233\u001b[0m \u001b[38;5;28;01mtry\u001b[39;00m:\n\u001b[0;32m-> 1234\u001b[0m   \u001b[38;5;28;01mreturn\u001b[39;00m \u001b[43mshape\u001b[49m\u001b[43m[\u001b[49m\u001b[43maxis\u001b[49m\u001b[43m]\u001b[49m\n\u001b[1;32m   1235\u001b[0m \u001b[38;5;28;01mexcept\u001b[39;00m (\u001b[38;5;167;01mIndexError\u001b[39;00m, \u001b[38;5;167;01mTypeError\u001b[39;00m) \u001b[38;5;28;01mas\u001b[39;00m e:\n",
      "\u001b[0;31mIndexError\u001b[0m: tuple index out of range",
      "\nThe above exception was the direct cause of the following exception:\n",
      "\u001b[0;31mValueError\u001b[0m                                Traceback (most recent call last)",
      "Cell \u001b[0;32mIn[7], line 27\u001b[0m\n\u001b[1;32m     24\u001b[0m   plt\u001b[38;5;241m.\u001b[39merrorbar(xdata, ydata, yerr\u001b[38;5;241m=\u001b[39mydataerr)\n\u001b[1;32m     25\u001b[0m   plt\u001b[38;5;241m.\u001b[39mshow()\n\u001b[0;32m---> 27\u001b[0m make_inference_fn, params, _\u001b[38;5;241m=\u001b[39m \u001b[43mtrain_fn\u001b[49m\u001b[43m(\u001b[49m\u001b[43menvironment\u001b[49m\u001b[38;5;241;43m=\u001b[39;49m\u001b[43menv\u001b[49m\u001b[43m,\u001b[49m\u001b[43m \u001b[49m\u001b[43mprogress_fn\u001b[49m\u001b[38;5;241;43m=\u001b[39;49m\u001b[43mprogress\u001b[49m\u001b[43m)\u001b[49m\n\u001b[1;32m     28\u001b[0m jit_inference_fn \u001b[38;5;241m=\u001b[39m jax\u001b[38;5;241m.\u001b[39mjit(make_inference_fn(params))\n\u001b[1;32m     30\u001b[0m \u001b[38;5;28mprint\u001b[39m(\u001b[38;5;124mf\u001b[39m\u001b[38;5;124m'\u001b[39m\u001b[38;5;124mtime to jit: \u001b[39m\u001b[38;5;132;01m{\u001b[39;00mtimes[\u001b[38;5;241m1\u001b[39m]\u001b[38;5;250m \u001b[39m\u001b[38;5;241m-\u001b[39m\u001b[38;5;250m \u001b[39mtimes[\u001b[38;5;241m0\u001b[39m]\u001b[38;5;132;01m}\u001b[39;00m\u001b[38;5;124m'\u001b[39m)\n",
      "File \u001b[0;32m~/.python/lib/python3.11/site-packages/brax/training/agents/ppo/train.py:226\u001b[0m, in \u001b[0;36mtrain\u001b[0;34m(environment, num_timesteps, episode_length, action_repeat, num_envs, max_devices_per_host, num_eval_envs, learning_rate, entropy_cost, discounting, seed, unroll_length, batch_size, num_minibatches, num_updates_per_batch, num_evals, num_resets_per_eval, normalize_observations, reward_scaling, clipping_epsilon, gae_lambda, deterministic_eval, network_factory, progress_fn, normalize_advantage, eval_env, policy_params_fn, randomization_fn)\u001b[0m\n\u001b[1;32m    223\u001b[0m key_envs \u001b[38;5;241m=\u001b[39m jax\u001b[38;5;241m.\u001b[39mrandom\u001b[38;5;241m.\u001b[39msplit(key_env, num_envs \u001b[38;5;241m/\u001b[39m\u001b[38;5;241m/\u001b[39m process_count)\n\u001b[1;32m    224\u001b[0m key_envs \u001b[38;5;241m=\u001b[39m jnp\u001b[38;5;241m.\u001b[39mreshape(key_envs,\n\u001b[1;32m    225\u001b[0m                        (local_devices_to_use, \u001b[38;5;241m-\u001b[39m\u001b[38;5;241m1\u001b[39m) \u001b[38;5;241m+\u001b[39m key_envs\u001b[38;5;241m.\u001b[39mshape[\u001b[38;5;241m1\u001b[39m:])\n\u001b[0;32m--> 226\u001b[0m env_state \u001b[38;5;241m=\u001b[39m \u001b[43mreset_fn\u001b[49m\u001b[43m(\u001b[49m\u001b[43mkey_envs\u001b[49m\u001b[43m)\u001b[49m\n\u001b[1;32m    228\u001b[0m normalize \u001b[38;5;241m=\u001b[39m \u001b[38;5;28;01mlambda\u001b[39;00m x, y: x\n\u001b[1;32m    229\u001b[0m \u001b[38;5;28;01mif\u001b[39;00m normalize_observations:\n",
      "    \u001b[0;31m[... skipping hidden 14 frame]\u001b[0m\n",
      "File \u001b[0;32m~/.python/lib/python3.11/site-packages/brax/envs/wrappers/training.py:111\u001b[0m, in \u001b[0;36mAutoResetWrapper.reset\u001b[0;34m(self, rng)\u001b[0m\n\u001b[1;32m    110\u001b[0m \u001b[38;5;28;01mdef\u001b[39;00m \u001b[38;5;21mreset\u001b[39m(\u001b[38;5;28mself\u001b[39m, rng: jax\u001b[38;5;241m.\u001b[39mArray) \u001b[38;5;241m-\u001b[39m\u001b[38;5;241m>\u001b[39m State:\n\u001b[0;32m--> 111\u001b[0m   state \u001b[38;5;241m=\u001b[39m \u001b[38;5;28;43mself\u001b[39;49m\u001b[38;5;241;43m.\u001b[39;49m\u001b[43menv\u001b[49m\u001b[38;5;241;43m.\u001b[39;49m\u001b[43mreset\u001b[49m\u001b[43m(\u001b[49m\u001b[43mrng\u001b[49m\u001b[43m)\u001b[49m\n\u001b[1;32m    112\u001b[0m   state\u001b[38;5;241m.\u001b[39minfo[\u001b[38;5;124m'\u001b[39m\u001b[38;5;124mfirst_pipeline_state\u001b[39m\u001b[38;5;124m'\u001b[39m] \u001b[38;5;241m=\u001b[39m state\u001b[38;5;241m.\u001b[39mpipeline_state\n\u001b[1;32m    113\u001b[0m   state\u001b[38;5;241m.\u001b[39minfo[\u001b[38;5;124m'\u001b[39m\u001b[38;5;124mfirst_obs\u001b[39m\u001b[38;5;124m'\u001b[39m] \u001b[38;5;241m=\u001b[39m state\u001b[38;5;241m.\u001b[39mobs\n",
      "File \u001b[0;32m~/.python/lib/python3.11/site-packages/brax/envs/wrappers/training.py:68\u001b[0m, in \u001b[0;36mVmapWrapper.reset\u001b[0;34m(self, rng)\u001b[0m\n\u001b[1;32m     66\u001b[0m \u001b[38;5;28;01mif\u001b[39;00m \u001b[38;5;28mself\u001b[39m\u001b[38;5;241m.\u001b[39mbatch_size \u001b[38;5;129;01mis\u001b[39;00m \u001b[38;5;129;01mnot\u001b[39;00m \u001b[38;5;28;01mNone\u001b[39;00m:\n\u001b[1;32m     67\u001b[0m   rng \u001b[38;5;241m=\u001b[39m jax\u001b[38;5;241m.\u001b[39mrandom\u001b[38;5;241m.\u001b[39msplit(rng, \u001b[38;5;28mself\u001b[39m\u001b[38;5;241m.\u001b[39mbatch_size)\n\u001b[0;32m---> 68\u001b[0m \u001b[38;5;28;01mreturn\u001b[39;00m \u001b[43mjax\u001b[49m\u001b[38;5;241;43m.\u001b[39;49m\u001b[43mvmap\u001b[49m\u001b[43m(\u001b[49m\u001b[38;5;28;43mself\u001b[39;49m\u001b[38;5;241;43m.\u001b[39;49m\u001b[43menv\u001b[49m\u001b[38;5;241;43m.\u001b[39;49m\u001b[43mreset\u001b[49m\u001b[43m)\u001b[49m\u001b[43m(\u001b[49m\u001b[43mrng\u001b[49m\u001b[43m)\u001b[49m\n",
      "    \u001b[0;31m[... skipping hidden 3 frame]\u001b[0m\n",
      "File \u001b[0;32m~/.python/lib/python3.11/site-packages/brax/envs/wrappers/training.py:83\u001b[0m, in \u001b[0;36mEpisodeWrapper.reset\u001b[0;34m(self, rng)\u001b[0m\n\u001b[1;32m     82\u001b[0m \u001b[38;5;28;01mdef\u001b[39;00m \u001b[38;5;21mreset\u001b[39m(\u001b[38;5;28mself\u001b[39m, rng: jax\u001b[38;5;241m.\u001b[39mArray) \u001b[38;5;241m-\u001b[39m\u001b[38;5;241m>\u001b[39m State:\n\u001b[0;32m---> 83\u001b[0m   state \u001b[38;5;241m=\u001b[39m \u001b[38;5;28;43mself\u001b[39;49m\u001b[38;5;241;43m.\u001b[39;49m\u001b[43menv\u001b[49m\u001b[38;5;241;43m.\u001b[39;49m\u001b[43mreset\u001b[49m\u001b[43m(\u001b[49m\u001b[43mrng\u001b[49m\u001b[43m)\u001b[49m\n\u001b[1;32m     84\u001b[0m   state\u001b[38;5;241m.\u001b[39minfo[\u001b[38;5;124m'\u001b[39m\u001b[38;5;124msteps\u001b[39m\u001b[38;5;124m'\u001b[39m] \u001b[38;5;241m=\u001b[39m jp\u001b[38;5;241m.\u001b[39mzeros(rng\u001b[38;5;241m.\u001b[39mshape[:\u001b[38;5;241m-\u001b[39m\u001b[38;5;241m1\u001b[39m])\n\u001b[1;32m     85\u001b[0m   state\u001b[38;5;241m.\u001b[39minfo[\u001b[38;5;124m'\u001b[39m\u001b[38;5;124mtruncation\u001b[39m\u001b[38;5;124m'\u001b[39m] \u001b[38;5;241m=\u001b[39m jp\u001b[38;5;241m.\u001b[39mzeros(rng\u001b[38;5;241m.\u001b[39mshape[:\u001b[38;5;241m-\u001b[39m\u001b[38;5;241m1\u001b[39m])\n",
      "Cell \u001b[0;32mIn[3], line 76\u001b[0m, in \u001b[0;36mAlohaBringToTarget.reset\u001b[0;34m(self, rng)\u001b[0m\n\u001b[1;32m     74\u001b[0m init_q \u001b[38;5;241m=\u001b[39m \u001b[38;5;28mself\u001b[39m\u001b[38;5;241m.\u001b[39m_init_q\u001b[38;5;241m.\u001b[39mat[\u001b[38;5;28mself\u001b[39m\u001b[38;5;241m.\u001b[39m_box_q_index:\u001b[38;5;28mself\u001b[39m\u001b[38;5;241m.\u001b[39m_box_q_index \u001b[38;5;241m+\u001b[39m \u001b[38;5;241m3\u001b[39m]\u001b[38;5;241m.\u001b[39mset(box_pos)\n\u001b[1;32m     75\u001b[0m pipeline_state \u001b[38;5;241m=\u001b[39m \u001b[38;5;28mself\u001b[39m\u001b[38;5;241m.\u001b[39mpipeline_init(init_q, jp\u001b[38;5;241m.\u001b[39mzeros(\u001b[38;5;28mself\u001b[39m\u001b[38;5;241m.\u001b[39msys\u001b[38;5;241m.\u001b[39mnv))\n\u001b[0;32m---> 76\u001b[0m render_token, rgb_ob, depth_ob \u001b[38;5;241m=\u001b[39m \u001b[38;5;28;43mself\u001b[39;49m\u001b[38;5;241;43m.\u001b[39;49m\u001b[43mrenderer\u001b[49m\u001b[38;5;241;43m.\u001b[39;49m\u001b[43minit\u001b[49m\u001b[43m(\u001b[49m\u001b[43mpipeline_state\u001b[49m\u001b[43m)\u001b[49m\n\u001b[1;32m     78\u001b[0m info \u001b[38;5;241m=\u001b[39m {\u001b[38;5;124m'\u001b[39m\u001b[38;5;124mrng\u001b[39m\u001b[38;5;124m'\u001b[39m: rng, \u001b[38;5;124m'\u001b[39m\u001b[38;5;124mtarget_pos\u001b[39m\u001b[38;5;124m'\u001b[39m: target_pos}\n\u001b[1;32m     79\u001b[0m \u001b[38;5;66;03m#obs = self._get_obs(pipeline_state, info)\u001b[39;00m\n",
      "File \u001b[0;32m~/mw/madrona_mjx/src/madrona_mjx/renderer.py:128\u001b[0m, in \u001b[0;36mBatchRenderer.init\u001b[0;34m(self, pipeline_state)\u001b[0m\n\u001b[1;32m    127\u001b[0m \u001b[38;5;28;01mdef\u001b[39;00m \u001b[38;5;21minit\u001b[39m(\u001b[38;5;28mself\u001b[39m, pipeline_state):\n\u001b[0;32m--> 128\u001b[0m   rgb, depth, render_token \u001b[38;5;241m=\u001b[39m \u001b[38;5;28;43mself\u001b[39;49m\u001b[38;5;241;43m.\u001b[39;49m\u001b[43minit_fn\u001b[49m\u001b[43m(\u001b[49m\u001b[43mpipeline_state\u001b[49m\u001b[43m)\u001b[49m\n\u001b[1;32m    130\u001b[0m   \u001b[38;5;28;01mreturn\u001b[39;00m render_token, rgb, depth\n",
      "    \u001b[0;31m[... skipping hidden 11 frame]\u001b[0m\n",
      "File \u001b[0;32m~/mw/madrona_mjx/src/madrona_mjx/renderer.py:100\u001b[0m, in \u001b[0;36mBatchRenderer.__init__.<locals>.render_init\u001b[0;34m(pipeline_state)\u001b[0m\n\u001b[1;32m     98\u001b[0m \u001b[38;5;129m@jax\u001b[39m\u001b[38;5;241m.\u001b[39mjit\n\u001b[1;32m     99\u001b[0m \u001b[38;5;28;01mdef\u001b[39;00m \u001b[38;5;21mrender_init\u001b[39m(pipeline_state):\n\u001b[0;32m--> 100\u001b[0m   geom_quat, cam_quat \u001b[38;5;241m=\u001b[39m \u001b[43mjax\u001b[49m\u001b[38;5;241;43m.\u001b[39;49m\u001b[43mjit\u001b[49m\u001b[43m(\u001b[49m\u001b[43mcompute_transforms\u001b[49m\u001b[43m)\u001b[49m\u001b[43m(\u001b[49m\n\u001b[1;32m    101\u001b[0m \u001b[43m      \u001b[49m\u001b[43mpipeline_state\u001b[49m\u001b[43m)\u001b[49m\n\u001b[1;32m    103\u001b[0m   render_token \u001b[38;5;241m=\u001b[39m jnp\u001b[38;5;241m.\u001b[39marray((), jnp\u001b[38;5;241m.\u001b[39mbool)\n\u001b[1;32m    105\u001b[0m   init_rgb, init_depth, render_token \u001b[38;5;241m=\u001b[39m init_prim_fn(\n\u001b[1;32m    106\u001b[0m       render_token,\n\u001b[1;32m    107\u001b[0m       pipeline_state\u001b[38;5;241m.\u001b[39mgeom_xpos,\n\u001b[1;32m    108\u001b[0m       geom_quat,\n\u001b[1;32m    109\u001b[0m       pipeline_state\u001b[38;5;241m.\u001b[39mcam_xpos,\n\u001b[1;32m    110\u001b[0m       cam_quat)\n",
      "    \u001b[0;31m[... skipping hidden 17 frame]\u001b[0m\n",
      "File \u001b[0;32m~/.python/lib/python3.11/site-packages/jax/_src/api.py:1238\u001b[0m, in \u001b[0;36m_mapped_axis_size.<locals>._get_axis_size\u001b[0;34m(name, shape, axis)\u001b[0m\n\u001b[1;32m   1236\u001b[0m min_rank \u001b[38;5;241m=\u001b[39m axis \u001b[38;5;241m+\u001b[39m \u001b[38;5;241m1\u001b[39m \u001b[38;5;28;01mif\u001b[39;00m axis \u001b[38;5;241m>\u001b[39m\u001b[38;5;241m=\u001b[39m \u001b[38;5;241m0\u001b[39m \u001b[38;5;28;01melse\u001b[39;00m \u001b[38;5;241m-\u001b[39maxis\n\u001b[1;32m   1237\u001b[0m \u001b[38;5;66;03m# TODO(mattjj): better error message here\u001b[39;00m\n\u001b[0;32m-> 1238\u001b[0m \u001b[38;5;28;01mraise\u001b[39;00m \u001b[38;5;167;01mValueError\u001b[39;00m(\n\u001b[1;32m   1239\u001b[0m     \u001b[38;5;124mf\u001b[39m\u001b[38;5;124m\"\u001b[39m\u001b[38;5;132;01m{\u001b[39;00mname\u001b[38;5;132;01m}\u001b[39;00m\u001b[38;5;124m was requested to map its argument along axis \u001b[39m\u001b[38;5;132;01m{\u001b[39;00maxis\u001b[38;5;132;01m}\u001b[39;00m\u001b[38;5;124m, \u001b[39m\u001b[38;5;124m\"\u001b[39m\n\u001b[1;32m   1240\u001b[0m     \u001b[38;5;124mf\u001b[39m\u001b[38;5;124m\"\u001b[39m\u001b[38;5;124mwhich implies that its rank should be at least \u001b[39m\u001b[38;5;132;01m{\u001b[39;00mmin_rank\u001b[38;5;132;01m}\u001b[39;00m\u001b[38;5;124m, \u001b[39m\u001b[38;5;124m\"\u001b[39m\n\u001b[1;32m   1241\u001b[0m     \u001b[38;5;124mf\u001b[39m\u001b[38;5;124m\"\u001b[39m\u001b[38;5;124mbut is only \u001b[39m\u001b[38;5;132;01m{\u001b[39;00m\u001b[38;5;28mlen\u001b[39m(shape)\u001b[38;5;132;01m}\u001b[39;00m\u001b[38;5;124m (its shape is \u001b[39m\u001b[38;5;132;01m{\u001b[39;00mshape\u001b[38;5;132;01m}\u001b[39;00m\u001b[38;5;124m)\u001b[39m\u001b[38;5;124m\"\u001b[39m) \u001b[38;5;28;01mfrom\u001b[39;00m \u001b[38;5;21;01me\u001b[39;00m\n",
      "\u001b[0;31mValueError\u001b[0m: vmap was requested to map its argument along axis 0, which implies that its rank should be at least 1, but is only 0 (its shape is ())"
     ]
    }
   ],
   "source": [
    "train_fn = functools.partial(\n",
    "    ppo.train, num_timesteps=150_000_000, num_evals=10, reward_scaling=0.1,\n",
    "    episode_length=1000, normalize_observations=True, action_repeat=2,\n",
    "    unroll_length=10, num_minibatches=32, num_updates_per_batch=8,\n",
    "    discounting=0.97, learning_rate=3e-4, entropy_cost=1e-3, num_envs=num_envs,\n",
    "    batch_size=1024, seed=0)\n",
    "\n",
    "xdata, ydata, ydataerr = [], [], []\n",
    "times = [datetime.now()]\n",
    "\n",
    "def progress(num_steps, metrics):\n",
    "  times.append(datetime.now())\n",
    "  xdata.append(num_steps)\n",
    "  ydata.append(metrics['eval/episode_reward'])\n",
    "  ydataerr.append(metrics['eval/episode_reward_std'])\n",
    "\n",
    "  clear_output(wait=True)\n",
    "  plt.rcParams.update({'font.size': 16})\n",
    "  plt.xlim([0, train_fn.keywords['num_timesteps'] * 1.01])\n",
    "  plt.ylim([0, 10000])\n",
    "  plt.xlabel('# environment steps')\n",
    "  plt.ylabel('reward per episode')\n",
    "  plt.title(f'y={ydata[-1]:.3f}')\n",
    "  plt.errorbar(xdata, ydata, yerr=ydataerr)\n",
    "  plt.show()\n",
    "\n",
    "make_inference_fn, params, _= train_fn(environment=env, progress_fn=progress)\n",
    "jit_inference_fn = jax.jit(make_inference_fn(params))\n",
    "\n",
    "print(f'time to jit: {times[1] - times[0]}')\n",
    "print(f'time to train: {times[-1] - times[1]}')"
   ]
  },
  {
   "cell_type": "code",
   "execution_count": null,
   "metadata": {
    "id": "M0nz1zXd5JoO"
   },
   "outputs": [],
   "source": [
    "#@title Visualize\n",
    "\n",
    "rollout = []\n",
    "rng = jax.random.PRNGKey(seed=2)\n",
    "state = jit_env_reset(rng=rng)\n",
    "\n",
    "for i in range(1000):\n",
    "  act_rng, rng = jax.random.split(rng)\n",
    "  rollout.append(state.pipeline_state)\n",
    "  act, _ = jit_inference_fn(state.obs, act_rng)\n",
    "  state = jit_env_step(state, act)\n",
    "\n",
    "  if state.done:\n",
    "    print('Done: ', i)\n",
    "    break"
   ]
  },
  {
   "cell_type": "code",
   "execution_count": null,
   "metadata": {
    "id": "oCB0Lt_Mhg5n"
   },
   "outputs": [],
   "source": [
    "HTML(html.render(env.sys, rollout))"
   ]
  },
  {
   "cell_type": "code",
   "execution_count": null,
   "metadata": {
    "id": "vCG2NX6v_wAf"
   },
   "outputs": [],
   "source": [
    "# example raycast render\n",
    "import numpy as np\n",
    "from mujoco import mjx\n",
    "\n",
    "width = 128\n",
    "height = 128\n",
    "fovy = np.deg2rad(58)\n",
    "f = 0.1\n",
    "cam_id = 1\n",
    "\n",
    "# dimensions of image plane\n",
    "h_ip = np.tan(fovy/2) * 2 * f\n",
    "w_ip = h_ip * (width / height)\n",
    "delta = w_ip / (2 * width)\n",
    "xs = np.linspace(-w_ip/2 + delta, w_ip/2 - delta, width)\n",
    "ys = np.flip(np.linspace(-h_ip/2 + delta, h_ip/2 - delta, height))\n",
    "xs, ys = np.tile(xs, height), np.repeat(ys, width)\n",
    "\n",
    "cam_x = jp.array(xs)\n",
    "cam_y = jp.array(ys)\n",
    "cam_vec = jax.vmap(lambda x, y, m=state.pipeline_state.cam_xmat[cam_id]: m @ jp.array([x, y, -f]))(cam_x, cam_y)\n",
    "cam_vec = jax.vmap(lambda x: x / jp.linalg.norm(x))(cam_vec)\n",
    "cam_pos = state.pipeline_state.cam_xpos[cam_id]\n",
    "\n",
    "def render():\n",
    "  geomgroup = [True, True, True, False, False, False]\n",
    "  def fn(_, vec):\n",
    "    dist, _ = mjx.ray(env.sys, state.pipeline_state, cam_pos, vec, geomgroup)\n",
    "    return None, dist\n",
    "  _, dist = jax.lax.scan(fn, None, cam_vec)\n",
    "  return dist\n",
    "\n",
    "depth = jax.jit(render)()"
   ]
  },
  {
   "cell_type": "code",
   "execution_count": null,
   "metadata": {
    "colab": {
     "base_uri": "https://localhost:8080/",
     "height": 273
    },
    "id": "djovt7KEF4En",
    "outputId": "c5318c9d-6918-44f1-faa1-541c04d530b7"
   },
   "outputs": [],
   "source": [
    "from PIL import Image\n",
    "\n",
    "depth = np.array(depth).reshape(128, 128)\n",
    "\n",
    "Image.fromarray(depth * 100, \"F\").convert(\"RGB\").resize((256, 256))"
   ]
  }
 ],
 "metadata": {
  "accelerator": "GPU",
  "colab": {
   "authorship_tag": "ABX9TyPIyDdIkjoP/ib4xYPSXh3+",
   "gpuType": "T4",
   "include_colab_link": true,
   "provenance": []
  },
  "kernelspec": {
   "display_name": "Python 3 (ipykernel)",
   "language": "python",
   "name": "python3"
  },
  "language_info": {
   "codemirror_mode": {
    "name": "ipython",
    "version": 3
   },
   "file_extension": ".py",
   "mimetype": "text/x-python",
   "name": "python",
   "nbconvert_exporter": "python",
   "pygments_lexer": "ipython3",
   "version": "3.11.9"
  }
 },
 "nbformat": 4,
 "nbformat_minor": 4
}
